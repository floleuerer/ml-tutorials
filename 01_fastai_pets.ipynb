{
 "cells": [
  {
   "cell_type": "markdown",
   "metadata": {
    "id": "lv415g5Y5mu4"
   },
   "source": [
    "[![Open In Colab](https://colab.research.google.com/assets/colab-badge.svg)](https://colab.research.google.com/github/floleuerer/ml-tutorials/blob/main/01_fastai_pets.ipynb)"
   ]
  },
  {
   "cell_type": "markdown",
   "metadata": {
    "id": "Ev0dHZN85mu5"
   },
   "source": [
    "# Vorbereitungen in Colab"
   ]
  },
  {
   "cell_type": "markdown",
   "metadata": {
    "id": "x042-dVb5mu6"
   },
   "source": [
    "Wenn du ein Notebook in Google Colab öffnest, musst du den \"Laufzeit-Typen\" den Instanz auf \"GPU\" ändern. Damit bekommst die Instanz eine GPU zugewiesen und das Training ist deutlich schneller. \n",
    "\n",
    "Menü \"Laufzeit\" -> \"Laufzeittyp ändern\"\n",
    "\n",
    "<div>\n",
    "<img src=\"imgs/01_runtime_type.png\" width=\"600\">\n",
    "</div>\n",
    "\n",
    "Im Pop-Up den Hardwarebeschleuniger auf \"GPU\" ändern und \"Speichern\".\n",
    "\n",
    "<div>\n",
    "<img src=\"imgs/02_runtime_type_gpu.png\" width=\"400\">\n",
    "</div>\n",
    "\n",
    "Die Instanz wird jetzt neu geladen und du musst alle Zellen noch einmal ausführen!"
   ]
  },
  {
   "cell_type": "markdown",
   "metadata": {
    "id": "V8EmRiJO5mu6"
   },
   "source": [
    "# Pakete installieren und importieren\n",
    "\n",
    "Python-Pakete von [fast.ai](https://www.fast.ai) installieren und importieren."
   ]
  },
  {
   "cell_type": "code",
   "execution_count": null,
   "metadata": {
    "colab": {
     "base_uri": "https://localhost:8080/",
     "height": 904
    },
    "id": "9FPb0Lt75mu7",
    "outputId": "27000421-362c-4305-fb65-14693c4a1417"
   },
   "outputs": [],
   "source": [
    "!pip install -Uq fastai"
   ]
  },
  {
   "cell_type": "code",
   "execution_count": null,
   "metadata": {
    "id": "ue9sOV_V5mu_"
   },
   "outputs": [],
   "source": [
    "from fastai.vision.all import *"
   ]
  },
  {
   "cell_type": "markdown",
   "metadata": {
    "id": "mNPOsShm5mvB"
   },
   "source": [
    "**Wichtig!** Wenn die folgende Zelle \"False\" ausgibt, ist keine GPU vorhanden -> Bitte prüfe die o. g. Schritte noch einmal und starte ggf. das Notebook neu. Bei \"True\" hast du eine GPU-Instanz und kannst weiter machen."
   ]
  },
  {
   "cell_type": "code",
   "execution_count": null,
   "metadata": {
    "colab": {
     "base_uri": "https://localhost:8080/",
     "height": 35
    },
    "id": "NDLsqKOA5mvC",
    "outputId": "ce23d434-cc30-4f2c-913a-e00c5d615e8b"
   },
   "outputs": [],
   "source": [
    "torch.cuda.is_available()"
   ]
  },
  {
   "cell_type": "markdown",
   "metadata": {
    "id": "ifcGLJ7l5mvH"
   },
   "source": [
    "# Daten laden"
   ]
  },
  {
   "cell_type": "markdown",
   "metadata": {
    "id": "cpHmelz-5mvI"
   },
   "source": [
    "Fast.ai liefert verschiedene Standard-Datensets mit, die häufig für DeepLearning-Benchmarks verwendet werden. Das gebräuchlichste ist das PETS-Dataset. Es besteht aus 37 verschiedenen Hunde- und Katzenrassen und umfasst insgesamt ca. 7400 Bilder."
   ]
  },
  {
   "cell_type": "markdown",
   "metadata": {
    "id": "wNXWjCRZ5mvI"
   },
   "source": [
    "Datensatz herunterladen und den Pfad als `path`-Variable speichern. Anschlißend die Bilderpfade als `files`-Liste laden."
   ]
  },
  {
   "cell_type": "code",
   "execution_count": null,
   "metadata": {
    "colab": {
     "base_uri": "https://localhost:8080/",
     "height": 17
    },
    "id": "tYSqogO45mvJ",
    "outputId": "5a1e473a-b173-4c1e-d3cd-d1838dccabfd"
   },
   "outputs": [],
   "source": [
    "path = untar_data(URLs.PETS)"
   ]
  },
  {
   "cell_type": "code",
   "execution_count": null,
   "metadata": {
    "colab": {
     "base_uri": "https://localhost:8080/",
     "height": 55
    },
    "id": "FKI5hsfZ5mvL",
    "outputId": "7c00da6b-aee5-4310-d215-441d53165f10"
   },
   "outputs": [],
   "source": [
    "(path/'images').ls()"
   ]
  },
  {
   "cell_type": "code",
   "execution_count": null,
   "metadata": {
    "colab": {
     "base_uri": "https://localhost:8080/",
     "height": 35
    },
    "id": "M3Nnh_PU5mvO",
    "outputId": "c0a65d1f-2989-4f3c-f7e9-331c0e407297"
   },
   "outputs": [],
   "source": [
    "files = get_image_files(path/\"images\")\n",
    "len(files)"
   ]
  },
  {
   "cell_type": "markdown",
   "metadata": {
    "id": "ch6CfZL35mvQ"
   },
   "source": [
    "Jupyter Notebooks unterstützt die Anzeige von Bildern. Dazu  müssen wir mit `PILImage.create` ein Bild-Objekt (Variable `img`) erstellen und zeigen es an. Um ein anderes Bild anzuzeigen, kannst du die Varible `img_number` ändern und die Zelle erneut ausführen."
   ]
  },
  {
   "cell_type": "code",
   "execution_count": null,
   "metadata": {
    "colab": {
     "base_uri": "https://localhost:8080/",
     "height": 517
    },
    "id": "kK6xuddG5mvR",
    "outputId": "34cc439b-0968-4b8c-c82d-25bb77ee39de",
    "scrolled": true
   },
   "outputs": [],
   "source": [
    "img_number = 7\n",
    "img = PILImage.create(files[img_number])\n",
    "img"
   ]
  },
  {
   "cell_type": "markdown",
   "metadata": {
    "id": "7k1Qr8Qa5mvT"
   },
   "source": [
    "# Cats-vs-Dogs"
   ]
  },
  {
   "cell_type": "markdown",
   "metadata": {
    "id": "n1Sj5z7l5mvU"
   },
   "source": [
    "Als einfachstes Modell trainieren wir einen Cats-vs-Dogs Classifier. D.h. das Modell wird trainiert um zwischen Hunden und Katzen zu unterscheiden. Dazu machen wir uns zur Nutze, dass in diesem Datensatz, die Katzenbilder mit einen Großbuchstaben beginnen (Egyptian_Mau_167.jpg) und die Hundebilder mit Kleinbuchstaben (shiba_inu_136.jpg)."
   ]
  },
  {
   "cell_type": "code",
   "execution_count": null,
   "metadata": {
    "id": "EbdMZz7_5mvU"
   },
   "outputs": [],
   "source": [
    "def label_func(f): return 'Cat' if f[0].isupper() else 'Dog'"
   ]
  },
  {
   "cell_type": "markdown",
   "metadata": {},
   "source": [
    "Damit wir unser Modell mit den Bildern \"füttern\" können, müssen wir einen Dataloader erstellen. Der Dataloader ist dafür zuständig, die Bilder zu laden und mit den passenden Labels (bzw. Klassen - in diesem Beispiel Cat / Dog zu versehen). Außerdem müssen alle Bilder auf dieselbe Größe zugeschnitten werden (hier 224 x 224 Pixel)."
   ]
  },
  {
   "cell_type": "code",
   "execution_count": null,
   "metadata": {
    "id": "r81QrA4o5mvW"
   },
   "outputs": [],
   "source": [
    "dls = ImageDataLoaders.from_name_func(path, files, label_func, item_tfms=Resize(224))"
   ]
  },
  {
   "cell_type": "code",
   "execution_count": null,
   "metadata": {
    "colab": {
     "base_uri": "https://localhost:8080/",
     "height": 536
    },
    "id": "kv15EdHJ5mvY",
    "outputId": "6e59eff5-3834-4f15-eefc-2ef976540919"
   },
   "outputs": [],
   "source": [
    "dls.show_batch()"
   ]
  },
  {
   "cell_type": "markdown",
   "metadata": {
    "id": "hb9vbj0q5mva"
   },
   "source": [
    "Deep Learning Modell verarbeiten die Daten in Batches. D. h. die Bilder werden nicht einzeln, sondern in \"Batches\" von 64  Bildern (die Standard Batch-Size) zusammengefasst und verarbeitet.\n",
    "\n",
    "Mit `dls.one_batch()` laden wir einen Batch und zeigen uns die `shape` an. \n",
    "\n",
    "**(Batch-Size, Farb-Kanäle (rot, grün, blau), Höhe, Breite)**"
   ]
  },
  {
   "cell_type": "code",
   "execution_count": null,
   "metadata": {
    "colab": {
     "base_uri": "https://localhost:8080/",
     "height": 35
    },
    "id": "S71ntlgv5mvb",
    "outputId": "65dc1c05-8490-4bb0-bfd6-30c96c21d5f2"
   },
   "outputs": [],
   "source": [
    "batch = dls.one_batch()\n",
    "batch[0].shape"
   ]
  },
  {
   "cell_type": "markdown",
   "metadata": {},
   "source": [
    "Der Dataloader hat im Hintergrund die Bilder in einen `Tensor` umgewandelt. Man kann vereinfacht sagen, dass alle Input-Daten die ein Deep Learning Modell verarbeit soll, in einen Tensor umgewandelt werden muss. Ein Tensor ist ein mehrdimensionales Array, das 32-Bit Float Zahlen enthält."
   ]
  },
  {
   "cell_type": "markdown",
   "metadata": {},
   "source": [
    "Unsere Bilder sind `TensorImage`s:"
   ]
  },
  {
   "cell_type": "code",
   "execution_count": null,
   "metadata": {
    "colab": {
     "base_uri": "https://localhost:8080/",
     "height": 1000
    },
    "id": "MV9dp2Lh5mve",
    "outputId": "b0cd1395-9f60-4ee0-8025-b9fa7ed83aee"
   },
   "outputs": [],
   "source": [
    "batch[0]"
   ]
  },
  {
   "cell_type": "markdown",
   "metadata": {},
   "source": [
    "Unsere Kategorien (Cat / Dog) wurden auch durch den Dataloader in Tensoren (`TensorCategory`) umgewandelt:"
   ]
  },
  {
   "cell_type": "code",
   "execution_count": null,
   "metadata": {},
   "outputs": [],
   "source": [
    "batch[1]"
   ]
  },
  {
   "cell_type": "markdown",
   "metadata": {
    "id": "HIjyDnbb5mvg"
   },
   "source": [
    "# Modell trainieren"
   ]
  },
  {
   "cell_type": "markdown",
   "metadata": {
    "id": "YU4p8TcX5mvg"
   },
   "source": [
    "Wir trainieren ein Resnet34-Modell - genauer gesagt nehmen wir ein \"Pretrained\"-Modell und Fine-tunen es. Wie gut unser Modell funktioniert, können wir an der Genauigkeit (accuracy) ablesen. Die accuracy zeigt uns, welchen Prozentsatz der Bilder korrekt kalssifiziert wurden."
   ]
  },
  {
   "cell_type": "code",
   "execution_count": null,
   "metadata": {
    "colab": {
     "base_uri": "https://localhost:8080/",
     "height": 208,
     "referenced_widgets": [
      "e19bb255f69746969536908581e34d81",
      "9dfee68d3cc240d2a556a7c1ffeb2277",
      "c22267fbbb474ae88d82d24d2e7800f1",
      "18e542eb45664c96b2089b72535218c8",
      "377b7e8684ea4a70bce318987c2f984b",
      "9bc11dcc66e04729b6f2cb81c70fcbe3",
      "2c0d4cb45eff40438b9370c62cd0bef3",
      "9fa3f5f61b554c1381c7116155446647"
     ]
    },
    "id": "Vh3svfh-5mvh",
    "outputId": "005ce3b8-1dd6-4eea-e243-67163f502064"
   },
   "outputs": [],
   "source": [
    "learn = cnn_learner(dls, resnet34, metrics=accuracy)\n",
    "learn.fine_tune(5)"
   ]
  },
  {
   "cell_type": "markdown",
   "metadata": {
    "id": "CG6pGuAu5mvj"
   },
   "source": [
    "# Ergebnisse anzeigen"
   ]
  },
  {
   "cell_type": "markdown",
   "metadata": {
    "id": "oAcG8a1N5mvk"
   },
   "source": [
    "`learn.show_results()` zeigt Beispielbilder und deren Klassifizierung an (rot bedeutet, dass das Modell das Bild falsch klassifiziert hat)."
   ]
  },
  {
   "cell_type": "code",
   "execution_count": null,
   "metadata": {
    "colab": {
     "base_uri": "https://localhost:8080/",
     "height": 551
    },
    "id": "_GTCEVCG5mvk",
    "outputId": "3843773d-6efe-4481-f826-b37f1a601763"
   },
   "outputs": [],
   "source": [
    "learn.show_results()"
   ]
  },
  {
   "cell_type": "markdown",
   "metadata": {
    "id": "aX0UWSex-FDV"
   },
   "source": [
    "Mit `learn.predict()` können wir ein einzelnes Bild von unserem Modell klassifizieren lassen."
   ]
  },
  {
   "cell_type": "code",
   "execution_count": null,
   "metadata": {
    "colab": {
     "base_uri": "https://localhost:8080/",
     "height": 35
    },
    "id": "AgTyKfkA-4vt",
    "outputId": "36d7b317-cc7d-4dd5-fc24-61d42911779d"
   },
   "outputs": [],
   "source": [
    "img_to_predict = files[1337]\n",
    "learn.predict(img_to_predict)"
   ]
  },
  {
   "cell_type": "markdown",
   "metadata": {},
   "source": [
    "Liegt das Modell richtig? Die folgende Zelle zeigt das Bild an:"
   ]
  },
  {
   "cell_type": "code",
   "execution_count": null,
   "metadata": {
    "colab": {
     "base_uri": "https://localhost:8080/",
     "height": 517
    },
    "id": "8wrJ1Woq-g6H",
    "outputId": "699515cf-706e-4beb-8059-0085f13e07fb"
   },
   "outputs": [],
   "source": [
    "PILImage.create(img_to_predict)"
   ]
  },
  {
   "cell_type": "code",
   "execution_count": null,
   "metadata": {},
   "outputs": [],
   "source": []
  }
 ],
 "metadata": {
  "accelerator": "GPU",
  "colab": {
   "collapsed_sections": [],
   "name": "01_fastai_pets.ipynb",
   "provenance": []
  },
  "kernelspec": {
   "display_name": "Python 3",
   "language": "python",
   "name": "python3"
  },
  "language_info": {
   "codemirror_mode": {
    "name": "ipython",
    "version": 3
   },
   "file_extension": ".py",
   "mimetype": "text/x-python",
   "name": "python",
   "nbconvert_exporter": "python",
   "pygments_lexer": "ipython3",
   "version": "3.8.5"
  },
  "widgets": {
   "application/vnd.jupyter.widget-state+json": {
    "18e542eb45664c96b2089b72535218c8": {
     "model_module": "@jupyter-widgets/controls",
     "model_name": "HTMLModel",
     "state": {
      "_dom_classes": [],
      "_model_module": "@jupyter-widgets/controls",
      "_model_module_version": "1.5.0",
      "_model_name": "HTMLModel",
      "_view_count": null,
      "_view_module": "@jupyter-widgets/controls",
      "_view_module_version": "1.5.0",
      "_view_name": "HTMLView",
      "description": "",
      "description_tooltip": null,
      "layout": "IPY_MODEL_9fa3f5f61b554c1381c7116155446647",
      "placeholder": "​",
      "style": "IPY_MODEL_2c0d4cb45eff40438b9370c62cd0bef3",
      "value": " 83.3M/83.3M [09:07&lt;00:00, 160kB/s]"
     }
    },
    "2c0d4cb45eff40438b9370c62cd0bef3": {
     "model_module": "@jupyter-widgets/controls",
     "model_name": "DescriptionStyleModel",
     "state": {
      "_model_module": "@jupyter-widgets/controls",
      "_model_module_version": "1.5.0",
      "_model_name": "DescriptionStyleModel",
      "_view_count": null,
      "_view_module": "@jupyter-widgets/base",
      "_view_module_version": "1.2.0",
      "_view_name": "StyleView",
      "description_width": ""
     }
    },
    "377b7e8684ea4a70bce318987c2f984b": {
     "model_module": "@jupyter-widgets/controls",
     "model_name": "ProgressStyleModel",
     "state": {
      "_model_module": "@jupyter-widgets/controls",
      "_model_module_version": "1.5.0",
      "_model_name": "ProgressStyleModel",
      "_view_count": null,
      "_view_module": "@jupyter-widgets/base",
      "_view_module_version": "1.2.0",
      "_view_name": "StyleView",
      "bar_color": null,
      "description_width": "initial"
     }
    },
    "9bc11dcc66e04729b6f2cb81c70fcbe3": {
     "model_module": "@jupyter-widgets/base",
     "model_name": "LayoutModel",
     "state": {
      "_model_module": "@jupyter-widgets/base",
      "_model_module_version": "1.2.0",
      "_model_name": "LayoutModel",
      "_view_count": null,
      "_view_module": "@jupyter-widgets/base",
      "_view_module_version": "1.2.0",
      "_view_name": "LayoutView",
      "align_content": null,
      "align_items": null,
      "align_self": null,
      "border": null,
      "bottom": null,
      "display": null,
      "flex": null,
      "flex_flow": null,
      "grid_area": null,
      "grid_auto_columns": null,
      "grid_auto_flow": null,
      "grid_auto_rows": null,
      "grid_column": null,
      "grid_gap": null,
      "grid_row": null,
      "grid_template_areas": null,
      "grid_template_columns": null,
      "grid_template_rows": null,
      "height": null,
      "justify_content": null,
      "justify_items": null,
      "left": null,
      "margin": null,
      "max_height": null,
      "max_width": null,
      "min_height": null,
      "min_width": null,
      "object_fit": null,
      "object_position": null,
      "order": null,
      "overflow": null,
      "overflow_x": null,
      "overflow_y": null,
      "padding": null,
      "right": null,
      "top": null,
      "visibility": null,
      "width": null
     }
    },
    "9dfee68d3cc240d2a556a7c1ffeb2277": {
     "model_module": "@jupyter-widgets/base",
     "model_name": "LayoutModel",
     "state": {
      "_model_module": "@jupyter-widgets/base",
      "_model_module_version": "1.2.0",
      "_model_name": "LayoutModel",
      "_view_count": null,
      "_view_module": "@jupyter-widgets/base",
      "_view_module_version": "1.2.0",
      "_view_name": "LayoutView",
      "align_content": null,
      "align_items": null,
      "align_self": null,
      "border": null,
      "bottom": null,
      "display": null,
      "flex": null,
      "flex_flow": null,
      "grid_area": null,
      "grid_auto_columns": null,
      "grid_auto_flow": null,
      "grid_auto_rows": null,
      "grid_column": null,
      "grid_gap": null,
      "grid_row": null,
      "grid_template_areas": null,
      "grid_template_columns": null,
      "grid_template_rows": null,
      "height": null,
      "justify_content": null,
      "justify_items": null,
      "left": null,
      "margin": null,
      "max_height": null,
      "max_width": null,
      "min_height": null,
      "min_width": null,
      "object_fit": null,
      "object_position": null,
      "order": null,
      "overflow": null,
      "overflow_x": null,
      "overflow_y": null,
      "padding": null,
      "right": null,
      "top": null,
      "visibility": null,
      "width": null
     }
    },
    "9fa3f5f61b554c1381c7116155446647": {
     "model_module": "@jupyter-widgets/base",
     "model_name": "LayoutModel",
     "state": {
      "_model_module": "@jupyter-widgets/base",
      "_model_module_version": "1.2.0",
      "_model_name": "LayoutModel",
      "_view_count": null,
      "_view_module": "@jupyter-widgets/base",
      "_view_module_version": "1.2.0",
      "_view_name": "LayoutView",
      "align_content": null,
      "align_items": null,
      "align_self": null,
      "border": null,
      "bottom": null,
      "display": null,
      "flex": null,
      "flex_flow": null,
      "grid_area": null,
      "grid_auto_columns": null,
      "grid_auto_flow": null,
      "grid_auto_rows": null,
      "grid_column": null,
      "grid_gap": null,
      "grid_row": null,
      "grid_template_areas": null,
      "grid_template_columns": null,
      "grid_template_rows": null,
      "height": null,
      "justify_content": null,
      "justify_items": null,
      "left": null,
      "margin": null,
      "max_height": null,
      "max_width": null,
      "min_height": null,
      "min_width": null,
      "object_fit": null,
      "object_position": null,
      "order": null,
      "overflow": null,
      "overflow_x": null,
      "overflow_y": null,
      "padding": null,
      "right": null,
      "top": null,
      "visibility": null,
      "width": null
     }
    },
    "c22267fbbb474ae88d82d24d2e7800f1": {
     "model_module": "@jupyter-widgets/controls",
     "model_name": "FloatProgressModel",
     "state": {
      "_dom_classes": [],
      "_model_module": "@jupyter-widgets/controls",
      "_model_module_version": "1.5.0",
      "_model_name": "FloatProgressModel",
      "_view_count": null,
      "_view_module": "@jupyter-widgets/controls",
      "_view_module_version": "1.5.0",
      "_view_name": "ProgressView",
      "bar_style": "success",
      "description": "100%",
      "description_tooltip": null,
      "layout": "IPY_MODEL_9bc11dcc66e04729b6f2cb81c70fcbe3",
      "max": 87306240,
      "min": 0,
      "orientation": "horizontal",
      "style": "IPY_MODEL_377b7e8684ea4a70bce318987c2f984b",
      "value": 87306240
     }
    },
    "e19bb255f69746969536908581e34d81": {
     "model_module": "@jupyter-widgets/controls",
     "model_name": "HBoxModel",
     "state": {
      "_dom_classes": [],
      "_model_module": "@jupyter-widgets/controls",
      "_model_module_version": "1.5.0",
      "_model_name": "HBoxModel",
      "_view_count": null,
      "_view_module": "@jupyter-widgets/controls",
      "_view_module_version": "1.5.0",
      "_view_name": "HBoxView",
      "box_style": "",
      "children": [
       "IPY_MODEL_c22267fbbb474ae88d82d24d2e7800f1",
       "IPY_MODEL_18e542eb45664c96b2089b72535218c8"
      ],
      "layout": "IPY_MODEL_9dfee68d3cc240d2a556a7c1ffeb2277"
     }
    }
   }
  }
 },
 "nbformat": 4,
 "nbformat_minor": 1
}
