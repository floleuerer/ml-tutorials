{
 "cells": [
  {
   "cell_type": "markdown",
   "metadata": {
    "id": "ESrh1lNGMcfN"
   },
   "source": [
    "[![Open In Colab](https://colab.research.google.com/assets/colab-badge.svg)](https://colab.research.google.com/github/floleuerer/ml-tutorials/blob/main/04_fastai_text.ipynb)"
   ]
  },
  {
   "cell_type": "markdown",
   "metadata": {
    "id": "3DNSZZAwqxwT"
   },
   "source": [
    "# Vorbereitung"
   ]
  },
  {
   "cell_type": "markdown",
   "metadata": {
    "id": "mPqYUzKnqzsn"
   },
   "source": [
    "Laufzeit-Typ ändern. Python-Pakete von fast.ai installieren und importieren."
   ]
  },
  {
   "cell_type": "code",
   "execution_count": null,
   "metadata": {
    "id": "55omZYT8MMX_"
   },
   "outputs": [],
   "source": [
    "!pip install -Uq fastai"
   ]
  },
  {
   "cell_type": "code",
   "execution_count": null,
   "metadata": {
    "id": "Gx2hO9coMhh5"
   },
   "outputs": [],
   "source": [
    "from fastai.text.all import *"
   ]
  },
  {
   "cell_type": "markdown",
   "metadata": {
    "id": "Hy_r2t2fq9dc"
   },
   "source": [
    "Wichtig! Wenn die folgende Zelle \"False\" ausgibt, ist keine GPU vorhanden -> Bitte prüfe die Vorbereitungsschritte in Notebook 01 noch einmal und starte ggf. das Notebook neu. Bei \"True\" hast du eine GPU-Instanz und kannst weiter machen."
   ]
  },
  {
   "cell_type": "code",
   "execution_count": null,
   "metadata": {
    "id": "8Zcgh58Yq-1k"
   },
   "outputs": [],
   "source": [
    "torch.cuda.is_available()"
   ]
  },
  {
   "cell_type": "markdown",
   "metadata": {},
   "source": [
    "# Text Klassifizierung"
   ]
  },
  {
   "cell_type": "markdown",
   "metadata": {},
   "source": [
    "Deep Learning hat sich nicht nur im Bereich Computer Vision, sondern auch im Bereich des Natural Language Processing durchgesetzt. Ein Beispiel dafür ist die Text Klassifizierung und ein beliebter Anwendungsfall z. B. die Sentiment Analyse. Diese Analysiert die Stimmung (positiv / negativ) in Texten.\n",
    "\n",
    "Im Marketing gehört die Sentiment-Analyse vor allem in den Bereich des Social-Media-Monitorings. Der Begriff Social Media bezieht sich hier nicht nur auf Facebook, Twitter und Co., sondern auch auf YouTube, Produkt- und Dienstleistungsbewertungen in Shops und Portalen sowie Foreneinträge. Über diese Kanäle werden heute nämlich sehr schnell Meinungen gebildet und verbreitet. Wer also weiß, wie in den Kommentaren und Posts über das eigene Produkt geredet wird, der kann entsprechend reagieren."
   ]
  },
  {
   "cell_type": "markdown",
   "metadata": {
    "id": "_-tC7sonrG5Z"
   },
   "source": [
    "# Daten laden"
   ]
  },
  {
   "cell_type": "markdown",
   "metadata": {
    "id": "BsMPqw33rIeV"
   },
   "source": [
    "Für die Textklassifizierung nutzen wir den IMDb Datensatz aus dem Paper *Learning Word Vectors for Sentiment Analysis*, der ebenfalls in den Standard-Datensets von Fast.ai enthalten ist. Der Datensatz umfasst mehrere Tausend englischsprachige Filmrezensionen."
   ]
  },
  {
   "cell_type": "code",
   "execution_count": null,
   "metadata": {
    "id": "USSGQO3-Mrgy"
   },
   "outputs": [],
   "source": [
    "path = untar_data(URLs.IMDB)"
   ]
  },
  {
   "cell_type": "markdown",
   "metadata": {
    "id": "JYyF90A3Ib6f"
   },
   "source": [
    "Der Ordner mit den Trainingsdaten enthält zwei weitere Unterordner *pos* und *neg* für positive und negative Rezensionen."
   ]
  },
  {
   "cell_type": "code",
   "execution_count": null,
   "metadata": {
    "id": "WLSH52E-NCzz"
   },
   "outputs": [],
   "source": [
    "(path/'train').ls()"
   ]
  },
  {
   "cell_type": "markdown",
   "metadata": {
    "id": "csA6u-JOI7Um"
   },
   "source": [
    "`valid_name` gibt den Namen des Ordners an, in dem die Daten zur Validierung liegen"
   ]
  },
  {
   "cell_type": "code",
   "execution_count": null,
   "metadata": {
    "id": "MyJbnrDfNVwe"
   },
   "outputs": [],
   "source": [
    "imdb = DataBlock(blocks=(TextBlock.from_folder(path), CategoryBlock),\n",
    "                 get_items=get_text_files,\n",
    "                 get_y=parent_label,\n",
    "                 splitter=GrandparentSplitter(valid_name='test'))"
   ]
  },
  {
   "cell_type": "code",
   "execution_count": null,
   "metadata": {
    "id": "yLMbExIQNXMV"
   },
   "outputs": [],
   "source": [
    "dls = imdb.dataloaders(path)"
   ]
  },
  {
   "cell_type": "code",
   "execution_count": null,
   "metadata": {
    "id": "lTwV0BW9Jf0m"
   },
   "outputs": [],
   "source": [
    "dls.show_batch()"
   ]
  },
  {
   "cell_type": "markdown",
   "metadata": {
    "id": "sY9l7OBfJhv2"
   },
   "source": [
    "Die Texte wurden automatisch von Fast.ai in Tokens aufgeteilt und um einige spezielle Tokens ergänzt. \n",
    "\n",
    "`xxbos ` zeigt den Anfang eines Textes\n",
    "\n",
    "`xxmaj` signalisiert, dass das nächste Wort mit einem Großbuchstaben anfängt."
   ]
  },
  {
   "cell_type": "markdown",
   "metadata": {
    "id": "VcSXQJg0JPhT"
   },
   "source": [
    "# Model trainieren"
   ]
  },
  {
   "cell_type": "code",
   "execution_count": null,
   "metadata": {
    "id": "wO6nigQQOzRU"
   },
   "outputs": [],
   "source": [
    "learn = text_classifier_learner(dls, AWD_LSTM, drop_mult=0.5, metrics=accuracy)"
   ]
  },
  {
   "cell_type": "code",
   "execution_count": null,
   "metadata": {
    "id": "bKU5UlE1O-wn"
   },
   "outputs": [],
   "source": [
    "learn.fine_tune(4, 1e-2)"
   ]
  },
  {
   "cell_type": "code",
   "execution_count": null,
   "metadata": {
    "id": "KuBZelUdbx53"
   },
   "outputs": [],
   "source": [
    "learn.show_results()"
   ]
  },
  {
   "cell_type": "markdown",
   "metadata": {
    "id": "2fav09KnKOmx"
   },
   "source": [
    "# \"predicten\""
   ]
  },
  {
   "cell_type": "code",
   "execution_count": null,
   "metadata": {
    "id": "nmX9vWUZb5BN"
   },
   "outputs": [],
   "source": [
    "learn.predict(\"The movie is really great\")"
   ]
  },
  {
   "cell_type": "markdown",
   "metadata": {
    "id": "fGIyLvRoKdLd"
   },
   "source": [
    "Das Modell sagt über die Rezenssion, dass sie positiv ist. `tensor(1)` gibt den Index von *pos* im Vokabular an und der letzte Teil die Wahrscheinlichkeiten zu jeder Klasse. (99% *pos* und 0.9% *neg*)"
   ]
  }
 ],
 "metadata": {
  "accelerator": "GPU",
  "colab": {
   "authorship_tag": "ABX9TyPy6TUEfCKXy6faelnUS0V4",
   "collapsed_sections": [],
   "name": "04_fastai_text.ipynb",
   "provenance": []
  },
  "kernelspec": {
   "display_name": "Python 3 (ipykernel)",
   "language": "python",
   "name": "python3"
  },
  "language_info": {
   "codemirror_mode": {
    "name": "ipython",
    "version": 3
   },
   "file_extension": ".py",
   "mimetype": "text/x-python",
   "name": "python",
   "nbconvert_exporter": "python",
   "pygments_lexer": "ipython3",
   "version": "3.8.10"
  }
 },
 "nbformat": 4,
 "nbformat_minor": 1
}
