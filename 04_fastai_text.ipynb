{
  "nbformat": 4,
  "nbformat_minor": 0,
  "metadata": {
    "colab": {
      "name": "04_fastai_text.ipynb",
      "provenance": [],
      "collapsed_sections": [],
      "authorship_tag": "ABX9TyPy6TUEfCKXy6faelnUS0V4"
    },
    "kernelspec": {
      "name": "python3",
      "display_name": "Python 3"
    },
    "accelerator": "GPU"
  },
  "cells": [
    {
      "cell_type": "markdown",
      "metadata": {
        "id": "ESrh1lNGMcfN"
      },
      "source": [
        "[![Open In Colab](https://colab.research.google.com/assets/colab-badge.svg)](https://colab.research.google.com/github/floleuerer/ml-tutorials/blob/main/04_fastai_text.ipynb)"
      ]
    },
    {
      "cell_type": "markdown",
      "metadata": {
        "id": "3DNSZZAwqxwT"
      },
      "source": [
        "# Vorbereitung"
      ]
    },
    {
      "cell_type": "markdown",
      "metadata": {
        "id": "mPqYUzKnqzsn"
      },
      "source": [
        "Laufzeit-Typ ändern. Python-Pakete von fast.ai installieren und importieren."
      ]
    },
    {
      "cell_type": "code",
      "metadata": {
        "id": "55omZYT8MMX_"
      },
      "source": [
        "!pip install -Uqq fastai"
      ],
      "execution_count": null,
      "outputs": []
    },
    {
      "cell_type": "code",
      "metadata": {
        "id": "Gx2hO9coMhh5"
      },
      "source": [
        "from fastai.text.all import *"
      ],
      "execution_count": null,
      "outputs": []
    },
    {
      "cell_type": "markdown",
      "metadata": {
        "id": "Hy_r2t2fq9dc"
      },
      "source": [
        "Wichtig! Wenn die folgende Zelle \"False\" ausgibt, ist keine GPU vorhanden -> Bitte prüfe die o. g. Schritte noch einmal und starte ggf. das Notebook neu. Bei \"True\" hast du eine GPU-Instanz und kannst weiter machen."
      ]
    },
    {
      "cell_type": "code",
      "metadata": {
        "id": "8Zcgh58Yq-1k"
      },
      "source": [
        "torch.cuda.is_available()"
      ],
      "execution_count": null,
      "outputs": []
    },
    {
      "cell_type": "markdown",
      "metadata": {
        "id": "_-tC7sonrG5Z"
      },
      "source": [
        "# Daten laden"
      ]
    },
    {
      "cell_type": "markdown",
      "metadata": {
        "id": "BsMPqw33rIeV"
      },
      "source": [
        "Für die Textklassifizierung nutzen wir den IMDb Datensatz aus dem Paper *Learning Word Vectors for Sentiment Analysis*, der ebenfalls in den Standard-Datensets von Fast.ai enthalten ist. Der Datensatz umfasst mehrere Tausend englischsprachige Filmrezensionen."
      ]
    },
    {
      "cell_type": "code",
      "metadata": {
        "id": "USSGQO3-Mrgy"
      },
      "source": [
        "path = untar_data(URLs.IMDB)"
      ],
      "execution_count": null,
      "outputs": []
    },
    {
      "cell_type": "markdown",
      "metadata": {
        "id": "JYyF90A3Ib6f"
      },
      "source": [
        "Der Ordner mit den Trainingsdaten enthält zwei weitere Unterordner *pos* und *neg* für positive und negative Rezensionen."
      ]
    },
    {
      "cell_type": "code",
      "metadata": {
        "id": "WLSH52E-NCzz"
      },
      "source": [
        "(path/'train').ls()"
      ],
      "execution_count": null,
      "outputs": []
    },
    {
      "cell_type": "markdown",
      "metadata": {
        "id": "csA6u-JOI7Um"
      },
      "source": [
        "`valid_name` gibt den Namen des Ordners an, in dem die Daten zur Validierung liegen"
      ]
    },
    {
      "cell_type": "code",
      "metadata": {
        "id": "MyJbnrDfNVwe"
      },
      "source": [
        "imdb = DataBlock(blocks=(TextBlock.from_folder(path), CategoryBlock),\n",
        "                 get_items=get_text_files,\n",
        "                 get_y=parent_label,\n",
        "                 splitter=GrandparentSplitter(valid_name='test'))"
      ],
      "execution_count": null,
      "outputs": []
    },
    {
      "cell_type": "code",
      "metadata": {
        "id": "yLMbExIQNXMV"
      },
      "source": [
        "dls = imdb.dataloaders(path)"
      ],
      "execution_count": null,
      "outputs": []
    },
    {
      "cell_type": "code",
      "metadata": {
        "id": "lTwV0BW9Jf0m"
      },
      "source": [
        "dls.show_batch()"
      ],
      "execution_count": null,
      "outputs": []
    },
    {
      "cell_type": "markdown",
      "metadata": {
        "id": "sY9l7OBfJhv2"
      },
      "source": [
        "Die Texte wurden automatisch von Fast.ai in Tokens aufgeteilt und um einige spezielle Tokens ergänzt. \n",
        "\n",
        "`xxbos ` zeigt den Anfang eines Textes\n",
        "\n",
        "`xxmaj` signalisiert, dass das nächste Wort mit einem Großbuchstaben anfängt."
      ]
    },
    {
      "cell_type": "markdown",
      "metadata": {
        "id": "VcSXQJg0JPhT"
      },
      "source": [
        "# Model trainieren"
      ]
    },
    {
      "cell_type": "code",
      "metadata": {
        "id": "wO6nigQQOzRU"
      },
      "source": [
        "learn = text_classifier_learner(dls, AWD_LSTM, drop_mult=0.5, metrics=accuracy)"
      ],
      "execution_count": null,
      "outputs": []
    },
    {
      "cell_type": "code",
      "metadata": {
        "id": "bKU5UlE1O-wn"
      },
      "source": [
        "learn.fine_tune(4, 1e-2)"
      ],
      "execution_count": null,
      "outputs": []
    },
    {
      "cell_type": "code",
      "metadata": {
        "id": "KuBZelUdbx53"
      },
      "source": [
        "learn.show_results()"
      ],
      "execution_count": null,
      "outputs": []
    },
    {
      "cell_type": "markdown",
      "metadata": {
        "id": "2fav09KnKOmx"
      },
      "source": [
        "# Predictions machen"
      ]
    },
    {
      "cell_type": "code",
      "metadata": {
        "id": "nmX9vWUZb5BN"
      },
      "source": [
        "learn.predict(\"The movie is really great\")"
      ],
      "execution_count": null,
      "outputs": []
    },
    {
      "cell_type": "markdown",
      "metadata": {
        "id": "fGIyLvRoKdLd"
      },
      "source": [
        "Das Modell sagt über die Rezenssion, dass sie positiv ist. `tensor(1)` gibt den Index von *pos* im Vokabular an und der letzte Teil die Wahrscheinlichkeiten zu jeder Klasse. (99% *pos* und 0.9% *neg*)"
      ]
    }
  ]
}