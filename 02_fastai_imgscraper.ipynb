{
 "cells": [
  {
   "cell_type": "markdown",
   "metadata": {
    "id": "b3_47bLk0PGH"
   },
   "source": [
    "[![Open In Colab](https://colab.research.google.com/assets/colab-badge.svg)](https://colab.research.google.com/github/floleuerer/ml-tutorials/blob/main/02_fastai_imgscraper.ipynb)"
   ]
  },
  {
   "cell_type": "markdown",
   "metadata": {
    "id": "X4KtM_QcFUU4"
   },
   "source": [
    "# Vorbereitung"
   ]
  },
  {
   "cell_type": "markdown",
   "metadata": {
    "id": "FjJI7dFBFV8p"
   },
   "source": [
    "Laufzeit-Typ ändern. Python-Pakete von fast.ai installieren und importieren."
   ]
  },
  {
   "cell_type": "code",
   "execution_count": null,
   "metadata": {
    "id": "h9fFHuHJFdd_"
   },
   "outputs": [],
   "source": [
    "!pip install -Uq fastai==2.0.18"
   ]
  },
  {
   "cell_type": "code",
   "execution_count": null,
   "metadata": {
    "id": "sQzeBET6Ff-K"
   },
   "outputs": [],
   "source": [
    "from fastai.vision.all import *"
   ]
  },
  {
   "cell_type": "markdown",
   "metadata": {
    "id": "1xeXPginpzwo"
   },
   "source": [
    "**Wichtig!** Wenn die folgende Zelle \"False\" ausgibt, ist keine GPU vorhanden -> Bitte prüfe die Schritte in Notebook 01 noch einmal und starte ggf. das Notebook neu. Bei \"True\" hast du eine GPU-Instanz und kannst weiter machen."
   ]
  },
  {
   "cell_type": "code",
   "execution_count": null,
   "metadata": {
    "id": "aBtPeLN9p0Zr"
   },
   "outputs": [],
   "source": [
    "torch.cuda.is_available()"
   ]
  },
  {
   "cell_type": "markdown",
   "metadata": {},
   "source": [
    "# Einen Eigenen Bilder-Klassifizierer bauen"
   ]
  },
  {
   "cell_type": "markdown",
   "metadata": {},
   "source": [
    "Im ersten Notebook haben wir gesehen, wir man mit einem Standard-Datensatz einfach und schnell ein Image-Classification Model zu trainieren. Das Wissen möchten wir jetzt nutzen um ein eigenes kleines Projekt umzusetzen.\n",
    "\n",
    "Dazu erstellen wir uns mit hilfe von der Suchmaschine DuckDuckGo einen eigenen Datensatz und trainieren damit ein Classification-Model."
   ]
  },
  {
   "cell_type": "markdown",
   "metadata": {
    "id": "w_9t8lDC4t3V"
   },
   "source": [
    "# Eigenen Datensatz erstellen\n"
   ]
  },
  {
   "cell_type": "markdown",
   "metadata": {
    "id": "1R_xh-CtAtTm"
   },
   "source": [
    "Um Bilder von DuckDuckGo herunterladen zu können installieren und importieren wir die Python-Bibliothek JMD_ImageScraper."
   ]
  },
  {
   "cell_type": "code",
   "execution_count": null,
   "metadata": {
    "id": "7qVjDdnDUNJ5"
   },
   "outputs": [],
   "source": [
    "!pip install -q jmd_imagescraper"
   ]
  },
  {
   "cell_type": "code",
   "execution_count": null,
   "metadata": {
    "id": "kpwKAe7SUqZF"
   },
   "outputs": [],
   "source": [
    "from jmd_imagescraper.core import *\n",
    "from pathlib import Path"
   ]
  },
  {
   "cell_type": "markdown",
   "metadata": {
    "id": "-n2J1unCC96O"
   },
   "source": [
    "Den Pfad als `path`-Variable speichern und anschließend den Datensatz herunterladen. `duckduckgo_search()` benötigt den Destination-Pfad, ein Label, einen Suchbegriff und die Anzahl der gewünschten Ergebnisse."
   ]
  },
  {
   "cell_type": "code",
   "execution_count": null,
   "metadata": {
    "id": "EUOXztrKU8cI"
   },
   "outputs": [],
   "source": [
    "path = Path().cwd()/\"test_images\""
   ]
  },
  {
   "cell_type": "markdown",
   "metadata": {},
   "source": [
    "Jetzt wird es interssant, Jede Zeile"
   ]
  },
  {
   "cell_type": "code",
   "execution_count": null,
   "metadata": {},
   "outputs": [],
   "source": [
    "n_images = 100\n",
    "#search_terms = [\"grizzly bear\", \"black bear\", \"teddy bear\"]\n",
    "search_terms = [\"adidas superstars\", \"nike air jordan\", \"converse all star\"]"
   ]
  },
  {
   "cell_type": "code",
   "execution_count": null,
   "metadata": {
    "id": "LAE2LD46XfSe"
   },
   "outputs": [],
   "source": [
    "for term in search_terms:\n",
    "    duckduckgo_search(path, '_'.join(term.split()), term, max_results=n_images)"
   ]
  },
  {
   "cell_type": "code",
   "execution_count": null,
   "metadata": {
    "id": "hE0ByvvVF5EU"
   },
   "outputs": [],
   "source": [
    "files = get_image_files(path)\n",
    "len(files)"
   ]
  },
  {
   "cell_type": "markdown",
   "metadata": {
    "id": "zb5letcFGYs0"
   },
   "source": [
    "# Data Block API"
   ]
  },
  {
   "cell_type": "markdown",
   "metadata": {
    "id": "5BpfebHuGdan"
   },
   "source": [
    "Anders als im ersten Beispiel erzeugen wir unser DataLoaders Objekt diesmal mit Hilfe der fast.ai Data Block API."
   ]
  },
  {
   "cell_type": "markdown",
   "metadata": {
    "id": "t4juyoVEKgSx"
   },
   "source": [
    "Bei der Erzeugung eines DataBlock werden Informationen für den DataLoader mitgegeben."
   ]
  },
  {
   "cell_type": "code",
   "execution_count": null,
   "metadata": {
    "id": "ewH_7uRNH4Uo"
   },
   "outputs": [],
   "source": [
    "dblock = DataBlock(blocks=(ImageBlock, CategoryBlock), \n",
    "                 get_items=get_image_files, \n",
    "                 get_y=parent_label,\n",
    "                 splitter=RandomSplitter(valid_pct=0.2, seed=42),\n",
    "                 item_tfms=Resize(224))"
   ]
  },
  {
   "cell_type": "markdown",
   "metadata": {
    "id": "ixIMIJlYJHO3"
   },
   "source": [
    "`blocks` ImageBlock definiert, dass der Input ein Bild ist und CategoryBlock das Label."
   ]
  },
  {
   "cell_type": "markdown",
   "metadata": {
    "id": "JnXKOE9Go8cx"
   },
   "source": [
    "`get_image_files` "
   ]
  },
  {
   "cell_type": "markdown",
   "metadata": {
    "id": "13q1LtxfpNdz"
   },
   "source": [
    "`get_y=parent_label` legt fest, dass das Label dem Namen des Ordners entspricht, in welchem Sie sich befinden."
   ]
  },
  {
   "cell_type": "markdown",
   "metadata": {
    "id": "NxKepkpJoFpb"
   },
   "source": [
    "`RandomSplitter` teilt die Daten in verschiedene Datensätze auf. Einer dient als Trainingssatz und ein weiterer zur Validierung."
   ]
  },
  {
   "cell_type": "markdown",
   "metadata": {
    "id": "g4HO5UXYockv"
   },
   "source": [
    "`Resize` skaliert jedes Bild auf eine Größe von 224x244"
   ]
  },
  {
   "cell_type": "markdown",
   "metadata": {
    "id": "VyvtxNIoz4to"
   },
   "source": [
    "Der DataLoader wird nun aus dem DataBlock erzeugt. Anschließend überprüfen wir mit `dls.vocab` unsere Labels und lassen uns einen Batch anzeigen."
   ]
  },
  {
   "cell_type": "code",
   "execution_count": null,
   "metadata": {
    "id": "cdaBxD9QIdNS"
   },
   "outputs": [],
   "source": [
    "dls = dblock.dataloaders(path)"
   ]
  },
  {
   "cell_type": "code",
   "execution_count": null,
   "metadata": {
    "id": "10YjRbfYpmBT"
   },
   "outputs": [],
   "source": [
    "dls.vocab"
   ]
  },
  {
   "cell_type": "code",
   "execution_count": null,
   "metadata": {
    "id": "poXsHgZ_Ig_w"
   },
   "outputs": [],
   "source": [
    "dls.show_batch(max_n=4, nrows=1)"
   ]
  },
  {
   "cell_type": "markdown",
   "metadata": {
    "id": "P9b2KaL_NcAo"
   },
   "source": [
    "Es ist gängie Praxis die Bilder zu verkleinern und in eine einheitliche Form zu bringen. Dies kann dazu führen, dass einige wichtige Detals verloren gehen. fast.ai bietet deshalb Funktionen zum skalieren der Bilder ohne dabei Informationen zu verlieren.\n"
   ]
  },
  {
   "cell_type": "markdown",
   "metadata": {
    "id": "-C57VPLrm5X8"
   },
   "source": [
    "`RandomResizedCrop()` schneidet das Bild auf einen zufällig ausgewählten Teil zu, welcher sich in jeder Epoche ändert. Dadurch lernt das Modell, sich auf verschiedene Merkmale des Bildes zu konzentrieren und diese zu erkennen. "
   ]
  },
  {
   "cell_type": "code",
   "execution_count": null,
   "metadata": {
    "id": "IennY1boMwHi"
   },
   "outputs": [],
   "source": [
    "dblock = dblock.new(item_tfms=RandomResizedCrop(224, min_scale=0.5))\n",
    "dls = dblock.dataloaders(path)\n",
    "dls.train.show_batch(max_n=4, nrows=1, unique=True)"
   ]
  },
  {
   "cell_type": "markdown",
   "metadata": {
    "id": "mzieMcfyMdj0"
   },
   "source": [
    "# Data Augmentation"
   ]
  },
  {
   "cell_type": "markdown",
   "metadata": {
    "id": "kjPAPvVfPK1r"
   },
   "source": [
    "`aug_transforms()` erstellt zufällige Variationen der Eingabedaten, so dass diese unterschiedlich aussehen, aber keine wichtigen Daten verloren gehen. Gängige Data Augmentation Techniken für Bilder sind das Rotieren, Spiegeln, Verzerren und das Ändern der Helligkeit oder des Kontrasts."
   ]
  },
  {
   "cell_type": "code",
   "execution_count": null,
   "metadata": {
    "id": "Kqbz5fcrMfZK"
   },
   "outputs": [],
   "source": [
    "dblock = dblock.new(item_tfms=RandomResizedCrop(224, min_scale=0.5), batch_tfms=aug_transforms(mult=2))\n",
    "dls = dblock.dataloaders(path)\n",
    "dls.train.show_batch(max_n=4, nrows=1, unique=True)"
   ]
  },
  {
   "cell_type": "markdown",
   "metadata": {
    "id": "-4ruNXyrMIWA"
   },
   "source": [
    "# Modell trainieren"
   ]
  },
  {
   "cell_type": "markdown",
   "metadata": {
    "id": "7tFUph2BWGfx"
   },
   "source": [
    "Diesmal nutzen wir ein Resnet34-Modell zum finetunen."
   ]
  },
  {
   "cell_type": "code",
   "execution_count": null,
   "metadata": {
    "id": "ftm6_5sUML2e"
   },
   "outputs": [],
   "source": [
    "learn = cnn_learner(dls, resnet34, metrics=error_rate)\n",
    "learn.fine_tune(4)"
   ]
  },
  {
   "cell_type": "markdown",
   "metadata": {
    "id": "4lAGQ9iAQxEa"
   },
   "source": [
    "# Ergebnisse anzeigen und interpretieren"
   ]
  },
  {
   "cell_type": "markdown",
   "metadata": {
    "id": "74RGRHM4QzDD"
   },
   "source": [
    "`learn.show_results()` zeigt Beispielbilder und deren Klassifizierung an (rot bedeutet, dass das Modell das Bild falsch klassifiziert hat)."
   ]
  },
  {
   "cell_type": "code",
   "execution_count": null,
   "metadata": {
    "id": "hZCoXqwKQ2WA"
   },
   "outputs": [],
   "source": [
    "learn.show_results()"
   ]
  },
  {
   "cell_type": "markdown",
   "metadata": {
    "id": "s2_FB_DuRGef"
   },
   "source": [
    "Um genauer zu untersuchen wo das Modell Fehler macht, kann man sich die Bilder mit dem höchsten `loss` anzeigen lassen. Ein hohes `loss` Bedeutet, dass ein Bild entweder Falsch klassifiziert wurde, oder das Modell sich bei der richtigen Klassifizierung unsicher war. Bei den folgenden Bildern hatte das Modell also Schwierigkeiten eine korrekte Entscheidung zu treffen."
   ]
  },
  {
   "cell_type": "code",
   "execution_count": null,
   "metadata": {
    "id": "ndmkNXlFRIww"
   },
   "outputs": [],
   "source": [
    "interp = ClassificationInterpretation.from_learner(learn)"
   ]
  },
  {
   "cell_type": "code",
   "execution_count": null,
   "metadata": {
    "id": "TmHyWnElRJ7j"
   },
   "outputs": [],
   "source": [
    "interp.plot_top_losses(9, figsize=(15,10))"
   ]
  },
  {
   "cell_type": "markdown",
   "metadata": {
    "id": "iViQ6yJzV9m7"
   },
   "source": [
    "Mit der `Confusion Matrix` sieht man, wieviele Bilder \"verwechselt\" also falsch Klassifiziert wurden und welche Klassen davon betroffen sind."
   ]
  },
  {
   "cell_type": "code",
   "execution_count": null,
   "metadata": {
    "id": "IiEI7RM6RNi7"
   },
   "outputs": [],
   "source": [
    "interp.plot_confusion_matrix()"
   ]
  },
  {
   "cell_type": "markdown",
   "metadata": {
    "id": "K8g4D2ntU9Hh"
   },
   "source": [
    "# Bereinigen der Daten"
   ]
  },
  {
   "cell_type": "markdown",
   "metadata": {
    "id": "Iis6AGGXVGeq"
   },
   "source": [
    "An den top_losses erkennt man, dass sich noch einige Fehlerhafte Daten im Datensatz befinden, wodurch die Genauigkeit des Models noch beeinflusst wird. Die ImageScraper Bibliothek enthält einen cleaner, der es uns erlaubt unseren Datensatz zu bereinigen."
   ]
  },
  {
   "cell_type": "markdown",
   "metadata": {
    "id": "ErR2dG5gVUt3"
   },
   "source": [
    "Bereinige den Datensatz und starte erneut bei der Erzeugung des DataBlocks. Du wirst sehen, dass die Genauigkeit des Models jetzt zunehmen wird. "
   ]
  },
  {
   "cell_type": "code",
   "execution_count": null,
   "metadata": {
    "id": "oFJRqmATRubo"
   },
   "outputs": [],
   "source": [
    "from jmd_imagescraper.imagecleaner import *\n",
    "\n",
    "display_image_cleaner(path)"
   ]
  }
 ],
 "metadata": {
  "accelerator": "GPU",
  "colab": {
   "authorship_tag": "ABX9TyNfJqYFgu7Hk2Z5aeidwLrv",
   "collapsed_sections": [],
   "name": "02_fastai_imgscraper.ipynb",
   "provenance": []
  },
  "kernelspec": {
   "display_name": "Python 3",
   "language": "python",
   "name": "python3"
  },
  "language_info": {
   "codemirror_mode": {
    "name": "ipython",
    "version": 3
   },
   "file_extension": ".py",
   "mimetype": "text/x-python",
   "name": "python",
   "nbconvert_exporter": "python",
   "pygments_lexer": "ipython3",
   "version": "3.8.5"
  }
 },
 "nbformat": 4,
 "nbformat_minor": 1
}
