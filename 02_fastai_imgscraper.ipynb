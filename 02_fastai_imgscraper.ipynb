{
  "nbformat": 4,
  "nbformat_minor": 0,
  "metadata": {
    "colab": {
      "name": "02_fastai_imgscraper.ipynb",
      "provenance": [],
      "collapsed_sections": [],
      "authorship_tag": "ABX9TyNfJqYFgu7Hk2Z5aeidwLrv"
    },
    "kernelspec": {
      "name": "python3",
      "display_name": "Python 3"
    },
    "accelerator": "GPU"
  },
  "cells": [
    {
      "cell_type": "markdown",
      "metadata": {
        "id": "b3_47bLk0PGH"
      },
      "source": [
        "[![Open In Colab](https://colab.research.google.com/assets/colab-badge.svg)](https://colab.research.google.com/github/floleuerer/ml-tutorials/blob/main/02_fastai_imgscraper.ipynb)"
      ]
    },
    {
      "cell_type": "markdown",
      "metadata": {
        "id": "X4KtM_QcFUU4"
      },
      "source": [
        "# Vorbereitung"
      ]
    },
    {
      "cell_type": "markdown",
      "metadata": {
        "id": "FjJI7dFBFV8p"
      },
      "source": [
        "Laufzeit-Typ ändern. Python-Pakete von fast.ai installieren und importieren."
      ]
    },
    {
      "cell_type": "code",
      "metadata": {
        "id": "h9fFHuHJFdd_"
      },
      "source": [
        "!pip install --upgrade fastai fastcore"
      ],
      "execution_count": null,
      "outputs": []
    },
    {
      "cell_type": "code",
      "metadata": {
        "id": "sQzeBET6Ff-K"
      },
      "source": [
        "from fastai.vision.all import *"
      ],
      "execution_count": null,
      "outputs": []
    },
    {
      "cell_type": "markdown",
      "metadata": {
        "id": "1xeXPginpzwo"
      },
      "source": [
        "**Wichtig!** Wenn die folgende Zelle \"False\" ausgibt, ist keine GPU vorhanden -> Bitte prüfe die o. g. Schritte noch einmal und starte ggf. das Notebook neu. Bei \"True\" hast du eine GPU-Instanz und kannst weiter machen."
      ]
    },
    {
      "cell_type": "code",
      "metadata": {
        "id": "aBtPeLN9p0Zr"
      },
      "source": [
        "torch.cuda.is_available()"
      ],
      "execution_count": null,
      "outputs": []
    },
    {
      "cell_type": "markdown",
      "metadata": {
        "id": "w_9t8lDC4t3V"
      },
      "source": [
        "# Eigenen Datensatz erstellen\n"
      ]
    },
    {
      "cell_type": "markdown",
      "metadata": {
        "id": "1R_xh-CtAtTm"
      },
      "source": [
        "Für viele verschiedene Projekte ist es möglich die benötigten Daten online zu finden und daraus eigene Datensätze zu bauen. \n",
        "Dazu installieren wir ImageScraper, eine Python-Bibliothek zum erstellen von Datensätzen über DuckDuckGo."
      ]
    },
    {
      "cell_type": "code",
      "metadata": {
        "id": "7qVjDdnDUNJ5"
      },
      "source": [
        "!pip install -q jmd_imagescraper"
      ],
      "execution_count": null,
      "outputs": []
    },
    {
      "cell_type": "code",
      "metadata": {
        "id": "kpwKAe7SUqZF"
      },
      "source": [
        "from jmd_imagescraper.core import *\n",
        "from pathlib import Path"
      ],
      "execution_count": null,
      "outputs": []
    },
    {
      "cell_type": "markdown",
      "metadata": {
        "id": "-n2J1unCC96O"
      },
      "source": [
        "Den Pfad als `path`-Variable speichern und anschließend den Datensatz herunterladen. `duckduckgo_search()` benötigt den Destination-Pfad, ein Label, einen Suchbegriff und die Anzahl der gewünschten Ergebnisse."
      ]
    },
    {
      "cell_type": "code",
      "metadata": {
        "id": "EUOXztrKU8cI"
      },
      "source": [
        "path = Path().cwd()/\"test_images\""
      ],
      "execution_count": null,
      "outputs": []
    },
    {
      "cell_type": "code",
      "metadata": {
        "id": "LAE2LD46XfSe"
      },
      "source": [
        "duckduckgo_search(path, \"Grizzly\", \"grizzly bear\", max_results=100)\n",
        "duckduckgo_search(path, \"Black\", \"black bear\", max_results=100)\n",
        "duckduckgo_search(path, \"Teddy\", \"teddy bear\", max_results=100)"
      ],
      "execution_count": null,
      "outputs": []
    },
    {
      "cell_type": "code",
      "metadata": {
        "id": "hE0ByvvVF5EU"
      },
      "source": [
        "files = get_image_files(path)\n",
        "len(files)"
      ],
      "execution_count": null,
      "outputs": []
    },
    {
      "cell_type": "markdown",
      "metadata": {
        "id": "zb5letcFGYs0"
      },
      "source": [
        "# Data Block API"
      ]
    },
    {
      "cell_type": "markdown",
      "metadata": {
        "id": "5BpfebHuGdan"
      },
      "source": [
        "Anders als im ersten Beispiel erzeugen wir unser DataLoaders Objekt diesmal mit Hilfe der fast.ai Data Block API."
      ]
    },
    {
      "cell_type": "markdown",
      "metadata": {
        "id": "t4juyoVEKgSx"
      },
      "source": [
        "Bei der Erzeugung eines DataBlock werden Informationen für den DataLoader mitgegeben."
      ]
    },
    {
      "cell_type": "code",
      "metadata": {
        "id": "ewH_7uRNH4Uo"
      },
      "source": [
        "bears = DataBlock(blocks=(ImageBlock, CategoryBlock), \n",
        "                 get_items=get_image_files, \n",
        "                 get_y=parent_label,\n",
        "                 splitter=RandomSplitter(valid_pct=0.2, seed=42),\n",
        "                 item_tfms=Resize(224))"
      ],
      "execution_count": null,
      "outputs": []
    },
    {
      "cell_type": "markdown",
      "metadata": {
        "id": "ixIMIJlYJHO3"
      },
      "source": [
        "`blocks` ImageBlock definiert, dass der Input ein Bild ist und CategoryBlock das Label."
      ]
    },
    {
      "cell_type": "markdown",
      "metadata": {
        "id": "JnXKOE9Go8cx"
      },
      "source": [
        "`get_image_files` "
      ]
    },
    {
      "cell_type": "markdown",
      "metadata": {
        "id": "13q1LtxfpNdz"
      },
      "source": [
        "`get_y=parent_label` legt fest, dass das Label dem Namen des Ordners entspricht, in welchem Sie sich befinden."
      ]
    },
    {
      "cell_type": "markdown",
      "metadata": {
        "id": "NxKepkpJoFpb"
      },
      "source": [
        "`RandomSplitter` teilt die Daten in verschiedene Datensätze auf. Einer dient als Trainingssatz und ein weiterer zur Validierung."
      ]
    },
    {
      "cell_type": "markdown",
      "metadata": {
        "id": "g4HO5UXYockv"
      },
      "source": [
        "`Resize` skaliert jedes Bild auf eine Größe von 224x244"
      ]
    },
    {
      "cell_type": "markdown",
      "metadata": {
        "id": "VyvtxNIoz4to"
      },
      "source": [
        "Der DataLoader wird nun aus dem DataBlock erzeugt. Anschließend überprüfen wir mit `dls.vocab` unsere Labels und lassen uns einen Batch anzeigen."
      ]
    },
    {
      "cell_type": "code",
      "metadata": {
        "id": "cdaBxD9QIdNS"
      },
      "source": [
        "dls = bears.dataloaders(path)"
      ],
      "execution_count": null,
      "outputs": []
    },
    {
      "cell_type": "code",
      "metadata": {
        "id": "10YjRbfYpmBT"
      },
      "source": [
        "dls.vocab"
      ],
      "execution_count": null,
      "outputs": []
    },
    {
      "cell_type": "code",
      "metadata": {
        "id": "poXsHgZ_Ig_w"
      },
      "source": [
        "dls.show_batch(max_n=4, nrows=1)"
      ],
      "execution_count": null,
      "outputs": []
    },
    {
      "cell_type": "markdown",
      "metadata": {
        "id": "P9b2KaL_NcAo"
      },
      "source": [
        "Es ist gängie Praxis die Bilder zu verkleinern und in eine einheitliche Form zu bringen. Dies kann dazu führen, dass einige wichtige Detals verloren gehen. fast.ai bietet deshalb Funktionen zum skalieren der Bilder ohne dabei Informationen zu verlieren.\n"
      ]
    },
    {
      "cell_type": "markdown",
      "metadata": {
        "id": "-C57VPLrm5X8"
      },
      "source": [
        "`RandomResizedCrop()` schneidet das Bild auf einen zufällig ausgewählten Teil zu, welcher sich in jeder Epoche ändert. Dadurch lernt das Modell, sich auf verschiedene Merkmale des Bildes zu konzentrieren und diese zu erkennen. "
      ]
    },
    {
      "cell_type": "code",
      "metadata": {
        "id": "IennY1boMwHi"
      },
      "source": [
        "bears = bears.new(item_tfms=RandomResizedCrop(224, min_scale=0.5))\n",
        "dls = bears.dataloaders(path)\n",
        "dls.train.show_batch(max_n=4, nrows=1, unique=True)"
      ],
      "execution_count": null,
      "outputs": []
    },
    {
      "cell_type": "markdown",
      "metadata": {
        "id": "mzieMcfyMdj0"
      },
      "source": [
        "# Data Augmentation"
      ]
    },
    {
      "cell_type": "markdown",
      "metadata": {
        "id": "kjPAPvVfPK1r"
      },
      "source": [
        "`aug_transforms()` erstellt zufällige Variationen der Eingabedaten, so dass diese unterschiedlich aussehen, aber keine wichtigen Daten verloren gehen. Gängige Data Augmentation Techniken für Bilder sind das Rotieren, Spiegeln, Verzerren und das Ändern der Helligkeit oder des Kontrasts."
      ]
    },
    {
      "cell_type": "code",
      "metadata": {
        "id": "Kqbz5fcrMfZK"
      },
      "source": [
        "bears = bears.new(item_tfms=RandomResizedCrop(224, min_scale=0.5), batch_tfms=aug_transforms(mult=2))\n",
        "dls = bears.dataloaders(path)\n",
        "dls.train.show_batch(max_n=4, nrows=1, unique=True)"
      ],
      "execution_count": null,
      "outputs": []
    },
    {
      "cell_type": "markdown",
      "metadata": {
        "id": "-4ruNXyrMIWA"
      },
      "source": [
        "# Modell trainieren"
      ]
    },
    {
      "cell_type": "markdown",
      "metadata": {
        "id": "7tFUph2BWGfx"
      },
      "source": [
        "Diesmal nutzen wir ein Resnet18-Modell zum finetunen."
      ]
    },
    {
      "cell_type": "code",
      "metadata": {
        "id": "ftm6_5sUML2e"
      },
      "source": [
        "learn = cnn_learner(dls, resnet18, metrics=error_rate)\n",
        "learn.fine_tune(4)"
      ],
      "execution_count": null,
      "outputs": []
    },
    {
      "cell_type": "markdown",
      "metadata": {
        "id": "4lAGQ9iAQxEa"
      },
      "source": [
        "# Ergebnisse anzeigen und interpretieren"
      ]
    },
    {
      "cell_type": "markdown",
      "metadata": {
        "id": "74RGRHM4QzDD"
      },
      "source": [
        "`learn.show_results()` zeigt Beispielbilder und deren Klassifizierung an (rot bedeutet, dass das Modell das Bild falsch klassifiziert hat)."
      ]
    },
    {
      "cell_type": "code",
      "metadata": {
        "id": "hZCoXqwKQ2WA"
      },
      "source": [
        "learn.show_results()"
      ],
      "execution_count": null,
      "outputs": []
    },
    {
      "cell_type": "markdown",
      "metadata": {
        "id": "s2_FB_DuRGef"
      },
      "source": [
        "Um genauer zu untersuchen wo das Modell Fehler macht, kann man sich die Bilder mit dem höchsten `loss` anzeigen lassen. Ein hohes `loss` Bedeutet, dass ein Bild entweder Falsch klassifiziert wurde, oder das Modell sich bei der richtigen Klassifizierung unsicher war. Bei den folgenden Bildern hatte das Modell also Schwierigkeiten eine korrekte Entscheidung zu treffen."
      ]
    },
    {
      "cell_type": "code",
      "metadata": {
        "id": "ndmkNXlFRIww"
      },
      "source": [
        "interp = ClassificationInterpretation.from_learner(learn)"
      ],
      "execution_count": null,
      "outputs": []
    },
    {
      "cell_type": "code",
      "metadata": {
        "id": "TmHyWnElRJ7j"
      },
      "source": [
        "interp.plot_top_losses(9, figsize=(15,10))"
      ],
      "execution_count": null,
      "outputs": []
    },
    {
      "cell_type": "markdown",
      "metadata": {
        "id": "iViQ6yJzV9m7"
      },
      "source": [
        "Mit der `Confusion Matrix` sieht man, wieviele Bilder \"verwechselt\" also falsch Klassifiziert wurden."
      ]
    },
    {
      "cell_type": "code",
      "metadata": {
        "id": "IiEI7RM6RNi7"
      },
      "source": [
        "interp.plot_confusion_matrix()"
      ],
      "execution_count": null,
      "outputs": []
    },
    {
      "cell_type": "markdown",
      "metadata": {
        "id": "K8g4D2ntU9Hh"
      },
      "source": [
        "# Bereinigen der Daten"
      ]
    },
    {
      "cell_type": "markdown",
      "metadata": {
        "id": "Iis6AGGXVGeq"
      },
      "source": [
        "An den top_losses erkennt man, dass sich noch einige Fehlerhafte Daten im Datensatz befinden, wodurch die Genauigkeit des Models noch beeinflusst wird. Die ImageScraper Bibliothek enthält einen cleaner, der es uns erlaubt unseren Datensatz zu bereinigen."
      ]
    },
    {
      "cell_type": "markdown",
      "metadata": {
        "id": "ErR2dG5gVUt3"
      },
      "source": [
        "Bereinige den Datensatz und starte erneut bei der Erzeugung des DataBlocks. Du wirst sehen, dass die Genauigkeit des Models jetzt zunehmen wird. "
      ]
    },
    {
      "cell_type": "code",
      "metadata": {
        "id": "oFJRqmATRubo"
      },
      "source": [
        "from jmd_imagescraper.imagecleaner import *\n",
        "\n",
        "display_image_cleaner(path)"
      ],
      "execution_count": null,
      "outputs": []
    }
  ]
}