{
  "nbformat": 4,
  "nbformat_minor": 0,
  "metadata": {
    "colab": {
      "name": "03_fastai_segmentation.ipynb",
      "provenance": [],
      "collapsed_sections": [],
      "authorship_tag": "ABX9TyMsAPxEBdPPL0rfWyrB3OFR"
    },
    "kernelspec": {
      "name": "python3",
      "display_name": "Python 3"
    },
    "accelerator": "GPU"
  },
  "cells": [
    {
      "cell_type": "markdown",
      "metadata": {
        "id": "JeVU8tGWMTmu"
      },
      "source": [
        "[![Open In Colab](https://colab.research.google.com/assets/colab-badge.svg)](https://colab.research.google.com/github/floleuerer/ml-tutorials/blob/main/03_fastai_segmentation.ipynb)"
      ]
    },
    {
      "cell_type": "markdown",
      "metadata": {
        "id": "dFfkbT12zOEy"
      },
      "source": [
        "# Vorbereitung"
      ]
    },
    {
      "cell_type": "markdown",
      "metadata": {
        "id": "oYE05t6EzSXA"
      },
      "source": [
        "Laufzeit-Typ ändern. Python-Pakete von fast.ai installieren und importieren."
      ]
    },
    {
      "cell_type": "code",
      "metadata": {
        "id": "wNT0yPhDzT__"
      },
      "source": [
        "!pip install --upgrade fastai fastcore"
      ],
      "execution_count": null,
      "outputs": []
    },
    {
      "cell_type": "code",
      "metadata": {
        "id": "TZAhlpxGzU-f"
      },
      "source": [
        "from fastai.vision.all import *"
      ],
      "execution_count": null,
      "outputs": []
    },
    {
      "cell_type": "markdown",
      "metadata": {
        "id": "BWDiuscpzV7Q"
      },
      "source": [
        "**Wichtig!** Wenn die folgende Zelle \"False\" ausgibt, ist keine GPU vorhanden -> Bitte prüfe die o. g. Schritte noch einmal und starte ggf. das Notebook neu. Bei \"True\" hast du eine GPU-Instanz und kannst weiter machen."
      ]
    },
    {
      "cell_type": "code",
      "metadata": {
        "id": "zpLbFnFIzXmx"
      },
      "source": [
        "torch.cuda.is_available()"
      ],
      "execution_count": null,
      "outputs": []
    },
    {
      "cell_type": "markdown",
      "metadata": {
        "id": "uqJHVQaizFxT"
      },
      "source": [
        "# Daten laden"
      ]
    },
    {
      "cell_type": "markdown",
      "metadata": {
        "id": "Vb4jPP6_xp5d"
      },
      "source": [
        "Als Grundlage dient der Camvid Datensatz aus dem Paper *Semantic Object Classes in Video: A High-Definition Ground Truth Database*, das ebenfalls in Fast.ai integriert ist."
      ]
    },
    {
      "cell_type": "code",
      "metadata": {
        "id": "PNn5X0DFzI8Y"
      },
      "source": [
        "path = untar_data(URLs.CAMVID_TINY)"
      ],
      "execution_count": null,
      "outputs": []
    },
    {
      "cell_type": "code",
      "metadata": {
        "id": "iSSrdKUYzJsb"
      },
      "source": [
        "path.ls()"
      ],
      "execution_count": null,
      "outputs": []
    },
    {
      "cell_type": "markdown",
      "metadata": {
        "id": "ysgk5fyB4LDr"
      },
      "source": [
        "Die Bilder sind im `images` Ordner und die dazugehörigen Segmentation-Masken entsprechen den `labels`."
      ]
    },
    {
      "cell_type": "markdown",
      "metadata": {
        "id": "29bjdrzw4mo2"
      },
      "source": [
        "Die Masken besitzen für jeden Pixel einen Integer Wert. Diese Werte sind in der `codes.txt` abgespeichert."
      ]
    },
    {
      "cell_type": "code",
      "metadata": {
        "id": "8zS91yH82hoR"
      },
      "source": [
        "codes = np.loadtxt(path/'codes.txt', dtype=str)"
      ],
      "execution_count": null,
      "outputs": []
    },
    {
      "cell_type": "code",
      "metadata": {
        "id": "o5nugg_E2iVW"
      },
      "source": [
        "codes"
      ],
      "execution_count": null,
      "outputs": []
    },
    {
      "cell_type": "markdown",
      "metadata": {
        "id": "67dgExSH5Q47"
      },
      "source": [
        "Ähnlich wie beim Cats-vs-Dogs Classifier sind die Images für das Labeling der Daten nach einer bestimmten Syntax kodiert. In diesem Fall haben die Segmentation-Masken den selben Namen wie die Bilder und sind um ein _P ergänzt. Deshalb definieren wir folgende Labelfunktion. "
      ]
    },
    {
      "cell_type": "code",
      "metadata": {
        "id": "Hu-9sINn47e0"
      },
      "source": [
        "(path/\"labels\").ls()[0]"
      ],
      "execution_count": null,
      "outputs": []
    },
    {
      "cell_type": "code",
      "metadata": {
        "id": "VZJL10Bc2qQO"
      },
      "source": [
        "def label_func(fn): return path/\"labels\"/f\"{fn.stem}_P{fn.suffix}\""
      ],
      "execution_count": null,
      "outputs": []
    },
    {
      "cell_type": "markdown",
      "metadata": {
        "id": "YLkJ535YymBk"
      },
      "source": [
        "# Model trainieren"
      ]
    },
    {
      "cell_type": "code",
      "metadata": {
        "id": "pnABBkjRynJo"
      },
      "source": [
        "camvid = DataBlock(blocks=(ImageBlock, MaskBlock(codes)),\n",
        "                   get_items = get_image_files,\n",
        "                   get_y = label_func,\n",
        "                   splitter=RandomSplitter(),\n",
        "                   batch_tfms=aug_transforms(size=(120,160)))\n",
        "dls = camvid.dataloaders(path/\"images\", path=path, bs=8)"
      ],
      "execution_count": null,
      "outputs": []
    },
    {
      "cell_type": "code",
      "metadata": {
        "id": "OB7EDNGs0P0x"
      },
      "source": [
        "dls.show_batch(max_n=6)"
      ],
      "execution_count": null,
      "outputs": []
    },
    {
      "cell_type": "markdown",
      "metadata": {
        "id": "-RyS9Sry3eaz"
      },
      "source": [
        "# Model trainieren"
      ]
    },
    {
      "cell_type": "markdown",
      "metadata": {
        "id": "_05uu5m53g94"
      },
      "source": [
        "Für Segmentation nutzt man ein spezielles Modell namens UNet, statt des klassischen CNNs. Deshalb nutzen wir für dieses Beispiel den `unet_learner`"
      ]
    },
    {
      "cell_type": "code",
      "metadata": {
        "id": "OFly9AfB0Nv7"
      },
      "source": [
        "learn = unet_learner(dls, resnet34, metric=\"error_rate\")\n",
        "learn.fine_tune(8)"
      ],
      "execution_count": null,
      "outputs": []
    },
    {
      "cell_type": "markdown",
      "metadata": {
        "id": "SN1gjHpJ0ugj"
      },
      "source": [
        "Zur Visualisierung der Ergebnisse werden die Pixel entsprechend der Prediction des Modells eingefärbt. In jedem Bilderpaar entspricht das linke Bild dem Ziel und die rechte Seite der Prediction des Modells."
      ]
    },
    {
      "cell_type": "code",
      "metadata": {
        "id": "TSCyCn5xyvNc"
      },
      "source": [
        "learn.show_results(max_n=6, figsize=(7,8))"
      ],
      "execution_count": null,
      "outputs": []
    }
  ]
}